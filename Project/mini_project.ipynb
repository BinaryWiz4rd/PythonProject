{
 "cells": [
  {
   "metadata": {},
   "cell_type": "markdown",
   "source": "Imports and required installations",
   "id": "ebf597e38e03ab71"
  },
  {
   "cell_type": "code",
   "id": "initial_id",
   "metadata": {
    "collapsed": true,
    "ExecuteTime": {
     "end_time": "2025-01-07T09:02:03.616011Z",
     "start_time": "2025-01-07T09:01:59.990636Z"
    }
   },
   "source": [
    "!pip install pandas\n",
    "!pip install numpy\n",
    "!pip install matplotlib\n",
    "!pip install seaborn\n",
    "\n",
    "import pandas as pd\n",
    "import matplotlib.pyplot as plt\n",
    "import numpy as np\n",
    "import seaborn as sns"
   ],
   "outputs": [
    {
     "name": "stdout",
     "output_type": "stream",
     "text": [
      "Requirement already satisfied: pandas in /Users/zosiachojnacka/PycharmProjects/MiniProject/.venv/lib/python3.13/site-packages (2.2.3)\r\n",
      "Requirement already satisfied: numpy>=1.26.0 in /Users/zosiachojnacka/PycharmProjects/MiniProject/.venv/lib/python3.13/site-packages (from pandas) (2.2.1)\r\n",
      "Requirement already satisfied: python-dateutil>=2.8.2 in /Users/zosiachojnacka/PycharmProjects/MiniProject/.venv/lib/python3.13/site-packages (from pandas) (2.9.0.post0)\r\n",
      "Requirement already satisfied: pytz>=2020.1 in /Users/zosiachojnacka/PycharmProjects/MiniProject/.venv/lib/python3.13/site-packages (from pandas) (2024.2)\r\n",
      "Requirement already satisfied: tzdata>=2022.7 in /Users/zosiachojnacka/PycharmProjects/MiniProject/.venv/lib/python3.13/site-packages (from pandas) (2024.2)\r\n",
      "Requirement already satisfied: six>=1.5 in /Users/zosiachojnacka/PycharmProjects/MiniProject/.venv/lib/python3.13/site-packages (from python-dateutil>=2.8.2->pandas) (1.17.0)\r\n",
      "\r\n",
      "\u001B[1m[\u001B[0m\u001B[34;49mnotice\u001B[0m\u001B[1;39;49m]\u001B[0m\u001B[39;49m A new release of pip is available: \u001B[0m\u001B[31;49m23.2.1\u001B[0m\u001B[39;49m -> \u001B[0m\u001B[32;49m24.3.1\u001B[0m\r\n",
      "\u001B[1m[\u001B[0m\u001B[34;49mnotice\u001B[0m\u001B[1;39;49m]\u001B[0m\u001B[39;49m To update, run: \u001B[0m\u001B[32;49mpip install --upgrade pip\u001B[0m\r\n",
      "Requirement already satisfied: numpy in /Users/zosiachojnacka/PycharmProjects/MiniProject/.venv/lib/python3.13/site-packages (2.2.1)\r\n",
      "\r\n",
      "\u001B[1m[\u001B[0m\u001B[34;49mnotice\u001B[0m\u001B[1;39;49m]\u001B[0m\u001B[39;49m A new release of pip is available: \u001B[0m\u001B[31;49m23.2.1\u001B[0m\u001B[39;49m -> \u001B[0m\u001B[32;49m24.3.1\u001B[0m\r\n",
      "\u001B[1m[\u001B[0m\u001B[34;49mnotice\u001B[0m\u001B[1;39;49m]\u001B[0m\u001B[39;49m To update, run: \u001B[0m\u001B[32;49mpip install --upgrade pip\u001B[0m\r\n",
      "Requirement already satisfied: matplotlib in /Users/zosiachojnacka/PycharmProjects/MiniProject/.venv/lib/python3.13/site-packages (3.10.0)\r\n",
      "Requirement already satisfied: contourpy>=1.0.1 in /Users/zosiachojnacka/PycharmProjects/MiniProject/.venv/lib/python3.13/site-packages (from matplotlib) (1.3.1)\r\n",
      "Requirement already satisfied: cycler>=0.10 in /Users/zosiachojnacka/PycharmProjects/MiniProject/.venv/lib/python3.13/site-packages (from matplotlib) (0.12.1)\r\n",
      "Requirement already satisfied: fonttools>=4.22.0 in /Users/zosiachojnacka/PycharmProjects/MiniProject/.venv/lib/python3.13/site-packages (from matplotlib) (4.55.3)\r\n",
      "Requirement already satisfied: kiwisolver>=1.3.1 in /Users/zosiachojnacka/PycharmProjects/MiniProject/.venv/lib/python3.13/site-packages (from matplotlib) (1.4.8)\r\n",
      "Requirement already satisfied: numpy>=1.23 in /Users/zosiachojnacka/PycharmProjects/MiniProject/.venv/lib/python3.13/site-packages (from matplotlib) (2.2.1)\r\n",
      "Requirement already satisfied: packaging>=20.0 in /Users/zosiachojnacka/PycharmProjects/MiniProject/.venv/lib/python3.13/site-packages (from matplotlib) (24.2)\r\n",
      "Requirement already satisfied: pillow>=8 in /Users/zosiachojnacka/PycharmProjects/MiniProject/.venv/lib/python3.13/site-packages (from matplotlib) (11.1.0)\r\n",
      "Requirement already satisfied: pyparsing>=2.3.1 in /Users/zosiachojnacka/PycharmProjects/MiniProject/.venv/lib/python3.13/site-packages (from matplotlib) (3.2.1)\r\n",
      "Requirement already satisfied: python-dateutil>=2.7 in /Users/zosiachojnacka/PycharmProjects/MiniProject/.venv/lib/python3.13/site-packages (from matplotlib) (2.9.0.post0)\r\n",
      "Requirement already satisfied: six>=1.5 in /Users/zosiachojnacka/PycharmProjects/MiniProject/.venv/lib/python3.13/site-packages (from python-dateutil>=2.7->matplotlib) (1.17.0)\r\n",
      "\r\n",
      "\u001B[1m[\u001B[0m\u001B[34;49mnotice\u001B[0m\u001B[1;39;49m]\u001B[0m\u001B[39;49m A new release of pip is available: \u001B[0m\u001B[31;49m23.2.1\u001B[0m\u001B[39;49m -> \u001B[0m\u001B[32;49m24.3.1\u001B[0m\r\n",
      "\u001B[1m[\u001B[0m\u001B[34;49mnotice\u001B[0m\u001B[1;39;49m]\u001B[0m\u001B[39;49m To update, run: \u001B[0m\u001B[32;49mpip install --upgrade pip\u001B[0m\r\n",
      "Collecting seaborn\r\n",
      "  Obtaining dependency information for seaborn from https://files.pythonhosted.org/packages/83/11/00d3c3dfc25ad54e731d91449895a79e4bf2384dc3ac01809010ba88f6d5/seaborn-0.13.2-py3-none-any.whl.metadata\r\n",
      "  Downloading seaborn-0.13.2-py3-none-any.whl.metadata (5.4 kB)\r\n",
      "Requirement already satisfied: numpy!=1.24.0,>=1.20 in /Users/zosiachojnacka/PycharmProjects/MiniProject/.venv/lib/python3.13/site-packages (from seaborn) (2.2.1)\r\n",
      "Requirement already satisfied: pandas>=1.2 in /Users/zosiachojnacka/PycharmProjects/MiniProject/.venv/lib/python3.13/site-packages (from seaborn) (2.2.3)\r\n",
      "Requirement already satisfied: matplotlib!=3.6.1,>=3.4 in /Users/zosiachojnacka/PycharmProjects/MiniProject/.venv/lib/python3.13/site-packages (from seaborn) (3.10.0)\r\n",
      "Requirement already satisfied: contourpy>=1.0.1 in /Users/zosiachojnacka/PycharmProjects/MiniProject/.venv/lib/python3.13/site-packages (from matplotlib!=3.6.1,>=3.4->seaborn) (1.3.1)\r\n",
      "Requirement already satisfied: cycler>=0.10 in /Users/zosiachojnacka/PycharmProjects/MiniProject/.venv/lib/python3.13/site-packages (from matplotlib!=3.6.1,>=3.4->seaborn) (0.12.1)\r\n",
      "Requirement already satisfied: fonttools>=4.22.0 in /Users/zosiachojnacka/PycharmProjects/MiniProject/.venv/lib/python3.13/site-packages (from matplotlib!=3.6.1,>=3.4->seaborn) (4.55.3)\r\n",
      "Requirement already satisfied: kiwisolver>=1.3.1 in /Users/zosiachojnacka/PycharmProjects/MiniProject/.venv/lib/python3.13/site-packages (from matplotlib!=3.6.1,>=3.4->seaborn) (1.4.8)\r\n",
      "Requirement already satisfied: packaging>=20.0 in /Users/zosiachojnacka/PycharmProjects/MiniProject/.venv/lib/python3.13/site-packages (from matplotlib!=3.6.1,>=3.4->seaborn) (24.2)\r\n",
      "Requirement already satisfied: pillow>=8 in /Users/zosiachojnacka/PycharmProjects/MiniProject/.venv/lib/python3.13/site-packages (from matplotlib!=3.6.1,>=3.4->seaborn) (11.1.0)\r\n",
      "Requirement already satisfied: pyparsing>=2.3.1 in /Users/zosiachojnacka/PycharmProjects/MiniProject/.venv/lib/python3.13/site-packages (from matplotlib!=3.6.1,>=3.4->seaborn) (3.2.1)\r\n",
      "Requirement already satisfied: python-dateutil>=2.7 in /Users/zosiachojnacka/PycharmProjects/MiniProject/.venv/lib/python3.13/site-packages (from matplotlib!=3.6.1,>=3.4->seaborn) (2.9.0.post0)\r\n",
      "Requirement already satisfied: pytz>=2020.1 in /Users/zosiachojnacka/PycharmProjects/MiniProject/.venv/lib/python3.13/site-packages (from pandas>=1.2->seaborn) (2024.2)\r\n",
      "Requirement already satisfied: tzdata>=2022.7 in /Users/zosiachojnacka/PycharmProjects/MiniProject/.venv/lib/python3.13/site-packages (from pandas>=1.2->seaborn) (2024.2)\r\n",
      "Requirement already satisfied: six>=1.5 in /Users/zosiachojnacka/PycharmProjects/MiniProject/.venv/lib/python3.13/site-packages (from python-dateutil>=2.7->matplotlib!=3.6.1,>=3.4->seaborn) (1.17.0)\r\n",
      "Downloading seaborn-0.13.2-py3-none-any.whl (294 kB)\r\n",
      "\u001B[2K   \u001B[90m━━━━━━━━━━━━━━━━━━━━━━━━━━━━━━━━━━━━━━━━\u001B[0m \u001B[32m294.9/294.9 kB\u001B[0m \u001B[31m1.7 MB/s\u001B[0m eta \u001B[36m0:00:00\u001B[0ma \u001B[36m0:00:01\u001B[0m\r\n",
      "\u001B[?25hInstalling collected packages: seaborn\r\n",
      "Successfully installed seaborn-0.13.2\r\n",
      "\r\n",
      "\u001B[1m[\u001B[0m\u001B[34;49mnotice\u001B[0m\u001B[1;39;49m]\u001B[0m\u001B[39;49m A new release of pip is available: \u001B[0m\u001B[31;49m23.2.1\u001B[0m\u001B[39;49m -> \u001B[0m\u001B[32;49m24.3.1\u001B[0m\r\n",
      "\u001B[1m[\u001B[0m\u001B[34;49mnotice\u001B[0m\u001B[1;39;49m]\u001B[0m\u001B[39;49m To update, run: \u001B[0m\u001B[32;49mpip install --upgrade pip\u001B[0m\r\n"
     ]
    }
   ],
   "execution_count": 16
  },
  {
   "metadata": {},
   "cell_type": "markdown",
   "source": [
    "Reading the csv file\n",
    "(data taken from https://data.mendeley.com/datasets/7m7555vgrn/1)"
   ],
   "id": "286191ed52ad5fc1"
  },
  {
   "metadata": {
    "ExecuteTime": {
     "end_time": "2025-01-07T08:50:32.196235Z",
     "start_time": "2025-01-07T08:50:32.185843Z"
    }
   },
   "cell_type": "code",
   "source": "df = pd.read_csv(\"Diabetes_Final_Data_V2.csv\")",
   "id": "ace22b0442e0f5cc",
   "outputs": [],
   "execution_count": 5
  },
  {
   "metadata": {},
   "cell_type": "markdown",
   "source": "Data check",
   "id": "45e33da6d0993142"
  },
  {
   "metadata": {
    "ExecuteTime": {
     "end_time": "2025-01-07T08:53:36.226587Z",
     "start_time": "2025-01-07T08:53:36.217283Z"
    }
   },
   "cell_type": "code",
   "source": "df.head()",
   "id": "363c4744d52e1c9e",
   "outputs": [
    {
     "data": {
      "text/plain": [
       "   age  gender  pulse_rate  systolic_bp  diastolic_bp  glucose  height  \\\n",
       "0   42  Female          66          110            73     5.88    1.65   \n",
       "1   35  Female          60          125            68     5.71    1.47   \n",
       "2   62  Female          57          127            74     6.85    1.52   \n",
       "3   73    Male          55          193           112     6.28    1.63   \n",
       "4   68  Female          71          150            81     5.71    1.42   \n",
       "\n",
       "   weight    bmi  family_diabetes  hypertensive  family_hypertension  \\\n",
       "0    70.2  25.75                0             0                    0   \n",
       "1    42.5  19.58                0             0                    0   \n",
       "2    47.0  20.24                0             0                    0   \n",
       "3    57.4  21.72                0             0                    0   \n",
       "4    36.0  17.79                0             0                    0   \n",
       "\n",
       "   cardiovascular_disease  stroke diabetic  \n",
       "0                       0       0       No  \n",
       "1                       0       0       No  \n",
       "2                       0       0       No  \n",
       "3                       0       0       No  \n",
       "4                       0       0       No  "
      ],
      "text/html": [
       "<div>\n",
       "<style scoped>\n",
       "    .dataframe tbody tr th:only-of-type {\n",
       "        vertical-align: middle;\n",
       "    }\n",
       "\n",
       "    .dataframe tbody tr th {\n",
       "        vertical-align: top;\n",
       "    }\n",
       "\n",
       "    .dataframe thead th {\n",
       "        text-align: right;\n",
       "    }\n",
       "</style>\n",
       "<table border=\"1\" class=\"dataframe\">\n",
       "  <thead>\n",
       "    <tr style=\"text-align: right;\">\n",
       "      <th></th>\n",
       "      <th>age</th>\n",
       "      <th>gender</th>\n",
       "      <th>pulse_rate</th>\n",
       "      <th>systolic_bp</th>\n",
       "      <th>diastolic_bp</th>\n",
       "      <th>glucose</th>\n",
       "      <th>height</th>\n",
       "      <th>weight</th>\n",
       "      <th>bmi</th>\n",
       "      <th>family_diabetes</th>\n",
       "      <th>hypertensive</th>\n",
       "      <th>family_hypertension</th>\n",
       "      <th>cardiovascular_disease</th>\n",
       "      <th>stroke</th>\n",
       "      <th>diabetic</th>\n",
       "    </tr>\n",
       "  </thead>\n",
       "  <tbody>\n",
       "    <tr>\n",
       "      <th>0</th>\n",
       "      <td>42</td>\n",
       "      <td>Female</td>\n",
       "      <td>66</td>\n",
       "      <td>110</td>\n",
       "      <td>73</td>\n",
       "      <td>5.88</td>\n",
       "      <td>1.65</td>\n",
       "      <td>70.2</td>\n",
       "      <td>25.75</td>\n",
       "      <td>0</td>\n",
       "      <td>0</td>\n",
       "      <td>0</td>\n",
       "      <td>0</td>\n",
       "      <td>0</td>\n",
       "      <td>No</td>\n",
       "    </tr>\n",
       "    <tr>\n",
       "      <th>1</th>\n",
       "      <td>35</td>\n",
       "      <td>Female</td>\n",
       "      <td>60</td>\n",
       "      <td>125</td>\n",
       "      <td>68</td>\n",
       "      <td>5.71</td>\n",
       "      <td>1.47</td>\n",
       "      <td>42.5</td>\n",
       "      <td>19.58</td>\n",
       "      <td>0</td>\n",
       "      <td>0</td>\n",
       "      <td>0</td>\n",
       "      <td>0</td>\n",
       "      <td>0</td>\n",
       "      <td>No</td>\n",
       "    </tr>\n",
       "    <tr>\n",
       "      <th>2</th>\n",
       "      <td>62</td>\n",
       "      <td>Female</td>\n",
       "      <td>57</td>\n",
       "      <td>127</td>\n",
       "      <td>74</td>\n",
       "      <td>6.85</td>\n",
       "      <td>1.52</td>\n",
       "      <td>47.0</td>\n",
       "      <td>20.24</td>\n",
       "      <td>0</td>\n",
       "      <td>0</td>\n",
       "      <td>0</td>\n",
       "      <td>0</td>\n",
       "      <td>0</td>\n",
       "      <td>No</td>\n",
       "    </tr>\n",
       "    <tr>\n",
       "      <th>3</th>\n",
       "      <td>73</td>\n",
       "      <td>Male</td>\n",
       "      <td>55</td>\n",
       "      <td>193</td>\n",
       "      <td>112</td>\n",
       "      <td>6.28</td>\n",
       "      <td>1.63</td>\n",
       "      <td>57.4</td>\n",
       "      <td>21.72</td>\n",
       "      <td>0</td>\n",
       "      <td>0</td>\n",
       "      <td>0</td>\n",
       "      <td>0</td>\n",
       "      <td>0</td>\n",
       "      <td>No</td>\n",
       "    </tr>\n",
       "    <tr>\n",
       "      <th>4</th>\n",
       "      <td>68</td>\n",
       "      <td>Female</td>\n",
       "      <td>71</td>\n",
       "      <td>150</td>\n",
       "      <td>81</td>\n",
       "      <td>5.71</td>\n",
       "      <td>1.42</td>\n",
       "      <td>36.0</td>\n",
       "      <td>17.79</td>\n",
       "      <td>0</td>\n",
       "      <td>0</td>\n",
       "      <td>0</td>\n",
       "      <td>0</td>\n",
       "      <td>0</td>\n",
       "      <td>No</td>\n",
       "    </tr>\n",
       "  </tbody>\n",
       "</table>\n",
       "</div>"
      ]
     },
     "execution_count": 9,
     "metadata": {},
     "output_type": "execute_result"
    }
   ],
   "execution_count": 9
  },
  {
   "metadata": {
    "ExecuteTime": {
     "end_time": "2025-01-07T08:54:18.051030Z",
     "start_time": "2025-01-07T08:54:18.043825Z"
    }
   },
   "cell_type": "code",
   "source": "df.info()",
   "id": "fd70e4b0a1027a00",
   "outputs": [
    {
     "name": "stdout",
     "output_type": "stream",
     "text": [
      "<class 'pandas.core.frame.DataFrame'>\n",
      "RangeIndex: 5437 entries, 0 to 5436\n",
      "Data columns (total 15 columns):\n",
      " #   Column                  Non-Null Count  Dtype  \n",
      "---  ------                  --------------  -----  \n",
      " 0   age                     5437 non-null   int64  \n",
      " 1   gender                  5437 non-null   object \n",
      " 2   pulse_rate              5437 non-null   int64  \n",
      " 3   systolic_bp             5437 non-null   int64  \n",
      " 4   diastolic_bp            5437 non-null   int64  \n",
      " 5   glucose                 5437 non-null   float64\n",
      " 6   height                  5437 non-null   float64\n",
      " 7   weight                  5437 non-null   float64\n",
      " 8   bmi                     5437 non-null   float64\n",
      " 9   family_diabetes         5437 non-null   int64  \n",
      " 10  hypertensive            5437 non-null   int64  \n",
      " 11  family_hypertension     5437 non-null   int64  \n",
      " 12  cardiovascular_disease  5437 non-null   int64  \n",
      " 13  stroke                  5437 non-null   int64  \n",
      " 14  diabetic                5437 non-null   object \n",
      "dtypes: float64(4), int64(9), object(2)\n",
      "memory usage: 637.3+ KB\n"
     ]
    }
   ],
   "execution_count": 10
  },
  {
   "metadata": {
    "ExecuteTime": {
     "end_time": "2025-01-07T08:55:06.868544Z",
     "start_time": "2025-01-07T08:55:06.847609Z"
    }
   },
   "cell_type": "code",
   "source": "df.describe()",
   "id": "87fa90839e75e58e",
   "outputs": [
    {
     "data": {
      "text/plain": [
       "               age   pulse_rate  systolic_bp  diastolic_bp      glucose  \\\n",
       "count  5437.000000  5437.000000  5437.000000   5437.000000  5437.000000   \n",
       "mean     45.533750    76.768990   133.859849     82.064742     7.540682   \n",
       "std      14.321155    12.290076    22.293015     12.489593     2.923080   \n",
       "min       8.000000     5.000000    62.000000     45.000000     0.000000   \n",
       "25%      35.000000    69.000000   119.000000     73.000000     6.000000   \n",
       "50%      45.000000    76.000000   130.000000     81.000000     6.920000   \n",
       "75%      55.000000    84.000000   147.000000     90.000000     8.120000   \n",
       "max     112.000000   133.000000   231.000000    119.000000    33.460000   \n",
       "\n",
       "            height       weight          bmi  family_diabetes  hypertensive  \\\n",
       "count  5437.000000  5437.000000  5437.000000      5437.000000   5437.000000   \n",
       "mean      1.548571    53.626816    22.472301         0.037337      0.109803   \n",
       "std       0.080955    10.091550     8.778764         0.189603      0.312673   \n",
       "min       0.360000     3.000000     1.220000         0.000000      0.000000   \n",
       "25%       1.520000    46.700000    19.630000         0.000000      0.000000   \n",
       "50%       1.550000    53.000000    21.870000         0.000000      0.000000   \n",
       "75%       1.600000    59.900000    24.490000         0.000000      0.000000   \n",
       "max       1.960000   100.700000   574.130000         1.000000      1.000000   \n",
       "\n",
       "       family_hypertension  cardiovascular_disease       stroke  \n",
       "count          5437.000000             5437.000000  5437.000000  \n",
       "mean              0.039544                0.011587     0.003678  \n",
       "std               0.194903                0.107029     0.060545  \n",
       "min               0.000000                0.000000     0.000000  \n",
       "25%               0.000000                0.000000     0.000000  \n",
       "50%               0.000000                0.000000     0.000000  \n",
       "75%               0.000000                0.000000     0.000000  \n",
       "max               1.000000                1.000000     1.000000  "
      ],
      "text/html": [
       "<div>\n",
       "<style scoped>\n",
       "    .dataframe tbody tr th:only-of-type {\n",
       "        vertical-align: middle;\n",
       "    }\n",
       "\n",
       "    .dataframe tbody tr th {\n",
       "        vertical-align: top;\n",
       "    }\n",
       "\n",
       "    .dataframe thead th {\n",
       "        text-align: right;\n",
       "    }\n",
       "</style>\n",
       "<table border=\"1\" class=\"dataframe\">\n",
       "  <thead>\n",
       "    <tr style=\"text-align: right;\">\n",
       "      <th></th>\n",
       "      <th>age</th>\n",
       "      <th>pulse_rate</th>\n",
       "      <th>systolic_bp</th>\n",
       "      <th>diastolic_bp</th>\n",
       "      <th>glucose</th>\n",
       "      <th>height</th>\n",
       "      <th>weight</th>\n",
       "      <th>bmi</th>\n",
       "      <th>family_diabetes</th>\n",
       "      <th>hypertensive</th>\n",
       "      <th>family_hypertension</th>\n",
       "      <th>cardiovascular_disease</th>\n",
       "      <th>stroke</th>\n",
       "    </tr>\n",
       "  </thead>\n",
       "  <tbody>\n",
       "    <tr>\n",
       "      <th>count</th>\n",
       "      <td>5437.000000</td>\n",
       "      <td>5437.000000</td>\n",
       "      <td>5437.000000</td>\n",
       "      <td>5437.000000</td>\n",
       "      <td>5437.000000</td>\n",
       "      <td>5437.000000</td>\n",
       "      <td>5437.000000</td>\n",
       "      <td>5437.000000</td>\n",
       "      <td>5437.000000</td>\n",
       "      <td>5437.000000</td>\n",
       "      <td>5437.000000</td>\n",
       "      <td>5437.000000</td>\n",
       "      <td>5437.000000</td>\n",
       "    </tr>\n",
       "    <tr>\n",
       "      <th>mean</th>\n",
       "      <td>45.533750</td>\n",
       "      <td>76.768990</td>\n",
       "      <td>133.859849</td>\n",
       "      <td>82.064742</td>\n",
       "      <td>7.540682</td>\n",
       "      <td>1.548571</td>\n",
       "      <td>53.626816</td>\n",
       "      <td>22.472301</td>\n",
       "      <td>0.037337</td>\n",
       "      <td>0.109803</td>\n",
       "      <td>0.039544</td>\n",
       "      <td>0.011587</td>\n",
       "      <td>0.003678</td>\n",
       "    </tr>\n",
       "    <tr>\n",
       "      <th>std</th>\n",
       "      <td>14.321155</td>\n",
       "      <td>12.290076</td>\n",
       "      <td>22.293015</td>\n",
       "      <td>12.489593</td>\n",
       "      <td>2.923080</td>\n",
       "      <td>0.080955</td>\n",
       "      <td>10.091550</td>\n",
       "      <td>8.778764</td>\n",
       "      <td>0.189603</td>\n",
       "      <td>0.312673</td>\n",
       "      <td>0.194903</td>\n",
       "      <td>0.107029</td>\n",
       "      <td>0.060545</td>\n",
       "    </tr>\n",
       "    <tr>\n",
       "      <th>min</th>\n",
       "      <td>8.000000</td>\n",
       "      <td>5.000000</td>\n",
       "      <td>62.000000</td>\n",
       "      <td>45.000000</td>\n",
       "      <td>0.000000</td>\n",
       "      <td>0.360000</td>\n",
       "      <td>3.000000</td>\n",
       "      <td>1.220000</td>\n",
       "      <td>0.000000</td>\n",
       "      <td>0.000000</td>\n",
       "      <td>0.000000</td>\n",
       "      <td>0.000000</td>\n",
       "      <td>0.000000</td>\n",
       "    </tr>\n",
       "    <tr>\n",
       "      <th>25%</th>\n",
       "      <td>35.000000</td>\n",
       "      <td>69.000000</td>\n",
       "      <td>119.000000</td>\n",
       "      <td>73.000000</td>\n",
       "      <td>6.000000</td>\n",
       "      <td>1.520000</td>\n",
       "      <td>46.700000</td>\n",
       "      <td>19.630000</td>\n",
       "      <td>0.000000</td>\n",
       "      <td>0.000000</td>\n",
       "      <td>0.000000</td>\n",
       "      <td>0.000000</td>\n",
       "      <td>0.000000</td>\n",
       "    </tr>\n",
       "    <tr>\n",
       "      <th>50%</th>\n",
       "      <td>45.000000</td>\n",
       "      <td>76.000000</td>\n",
       "      <td>130.000000</td>\n",
       "      <td>81.000000</td>\n",
       "      <td>6.920000</td>\n",
       "      <td>1.550000</td>\n",
       "      <td>53.000000</td>\n",
       "      <td>21.870000</td>\n",
       "      <td>0.000000</td>\n",
       "      <td>0.000000</td>\n",
       "      <td>0.000000</td>\n",
       "      <td>0.000000</td>\n",
       "      <td>0.000000</td>\n",
       "    </tr>\n",
       "    <tr>\n",
       "      <th>75%</th>\n",
       "      <td>55.000000</td>\n",
       "      <td>84.000000</td>\n",
       "      <td>147.000000</td>\n",
       "      <td>90.000000</td>\n",
       "      <td>8.120000</td>\n",
       "      <td>1.600000</td>\n",
       "      <td>59.900000</td>\n",
       "      <td>24.490000</td>\n",
       "      <td>0.000000</td>\n",
       "      <td>0.000000</td>\n",
       "      <td>0.000000</td>\n",
       "      <td>0.000000</td>\n",
       "      <td>0.000000</td>\n",
       "    </tr>\n",
       "    <tr>\n",
       "      <th>max</th>\n",
       "      <td>112.000000</td>\n",
       "      <td>133.000000</td>\n",
       "      <td>231.000000</td>\n",
       "      <td>119.000000</td>\n",
       "      <td>33.460000</td>\n",
       "      <td>1.960000</td>\n",
       "      <td>100.700000</td>\n",
       "      <td>574.130000</td>\n",
       "      <td>1.000000</td>\n",
       "      <td>1.000000</td>\n",
       "      <td>1.000000</td>\n",
       "      <td>1.000000</td>\n",
       "      <td>1.000000</td>\n",
       "    </tr>\n",
       "  </tbody>\n",
       "</table>\n",
       "</div>"
      ]
     },
     "execution_count": 11,
     "metadata": {},
     "output_type": "execute_result"
    }
   ],
   "execution_count": 11
  },
  {
   "metadata": {},
   "cell_type": "markdown",
   "source": "Columns info",
   "id": "712a3ef3be3c7388"
  },
  {
   "metadata": {
    "ExecuteTime": {
     "end_time": "2025-01-07T09:00:22.927458Z",
     "start_time": "2025-01-07T09:00:22.924121Z"
    }
   },
   "cell_type": "code",
   "source": "df.columns",
   "id": "731fb8314521befc",
   "outputs": [
    {
     "data": {
      "text/plain": [
       "Index(['age', 'gender', 'pulse_rate', 'systolic_bp', 'diastolic_bp', 'glucose',\n",
       "       'height', 'weight', 'bmi', 'family_diabetes', 'hypertensive',\n",
       "       'family_hypertension', 'cardiovascular_disease', 'stroke', 'diabetic'],\n",
       "      dtype='object')"
      ]
     },
     "execution_count": 13,
     "metadata": {},
     "output_type": "execute_result"
    }
   ],
   "execution_count": 13
  },
  {
   "metadata": {},
   "cell_type": "markdown",
   "source": "The distribution of 'diabetes' variable",
   "id": "fe0d9e885eae31a3"
  },
  {
   "metadata": {
    "ExecuteTime": {
     "end_time": "2025-01-07T08:57:01.272268Z",
     "start_time": "2025-01-07T08:57:01.266998Z"
    }
   },
   "cell_type": "code",
   "source": "df.diabetic.value_counts()",
   "id": "a3379fb500c56022",
   "outputs": [
    {
     "data": {
      "text/plain": [
       "diabetic\n",
       "No     5093\n",
       "Yes     344\n",
       "Name: count, dtype: int64"
      ]
     },
     "execution_count": 12,
     "metadata": {},
     "output_type": "execute_result"
    }
   ],
   "execution_count": 12
  },
  {
   "metadata": {},
   "cell_type": "markdown",
   "source": "The graph showing the age distribution",
   "id": "71aaf1ce9aab114a"
  },
  {
   "metadata": {
    "ExecuteTime": {
     "end_time": "2025-01-07T09:04:13.203183Z",
     "start_time": "2025-01-07T09:04:13.148481Z"
    }
   },
   "cell_type": "code",
   "source": [
    "plt.figure()\n",
    "plt.xlabel('Age', fontsize=10)\n",
    "plt.ylabel('Count', fontsize=10)\n",
    "df['age'].hist(edgecolor=\"hotpink\", color='lightpink')"
   ],
   "id": "e009eaaf9a7408a",
   "outputs": [
    {
     "data": {
      "text/plain": [
       "<Axes: xlabel='Age', ylabel='Count'>"
      ]
     },
     "execution_count": 23,
     "metadata": {},
     "output_type": "execute_result"
    },
    {
     "data": {
      "text/plain": [
       "<Figure size 640x480 with 1 Axes>"
      ],
      "image/png": "[encoded data removed]"
     },
     "metadata": {},
     "output_type": "display_data"
    }
   ],
   "execution_count": 23
  },
  {
   "metadata": {},
   "cell_type": "markdown",
   "source": [
    "Density graph or whatever this is called\n",
    "\n",
    "CODE IS YET TO BE ADJUSTED TO OUR DATA\n",
    "\n",
    "The columns we have:\n",
    "['age', 'gender', 'pulse_rate', 'systolic_bp', 'diastolic_bp', 'glucose', 'height', 'weight', 'bmi', 'family_diabetes', 'hypertensive', 'family_hypertension', 'cardiovascular_disease', 'stroke', 'diabetic']\n",
    "dtype='object'"
   ],
   "id": "9b49adc0442f2095"
  },
  {
   "metadata": {
    "ExecuteTime": {
     "end_time": "2025-01-07T09:11:40.685146Z",
     "start_time": "2025-01-07T09:11:40.228560Z"
    }
   },
   "cell_type": "code",
   "source": [
    "fig,ax = plt.subplots(8,2, figsize=(20,20))\n",
    "sns.histplot(df.gender, bins=20, ax=ax[0,0], color=\"red\")\n",
    "sns.histplot(df.pulse_rate, bins=20, ax=ax[0,1], color=\"red\")\n",
    "sns.histplot(df.systolic_bp, bins=20, ax=ax[1,0], color=\"red\")\n",
    "sns.histplot(df.diastolic_bp, bins=20, ax=ax[1,1], color=\"red\")\n",
    "sns.histplot(df.glucose, bins=20, ax=ax[2,0], color=\"red\")\n",
    "sns.histplot(df.bmi, bins=20, ax=ax[2,1], color=\"red\")\n",
    "#sns.distplot(df.DiabetesPedigreeFunction, bins=20, ax=ax[3,0], color=\"red\")\n",
    "sns.histplot(df.age, bins=20, ax=ax[3,1], color=\"red\")"
   ],
   "id": "39ddf2b3a5e3034e",
   "outputs": [
    {
     "data": {
      "text/plain": [
       "<Axes: xlabel='age', ylabel='Count'>"
      ]
     },
     "execution_count": 30,
     "metadata": {},
     "output_type": "execute_result"
    },
    {
     "data": {
      "text/plain": [
       "<Figure size 2000x2000 with 16 Axes>"
      ],
      "image/png": "[encoded data removed]"
     },
     "metadata": {},
     "output_type": "display_data"
    }
   ],
   "execution_count": 30
  },
  {
   "metadata": {},
   "cell_type": "markdown",
   "source": [
    "NEW NEW NEW NEW NEW NEW\n",
    "zmiana planow"
   ],
   "id": "e3e794ec88e773ef"
  },
  {
   "metadata": {},
   "cell_type": "code",
   "outputs": [],
   "execution_count": null,
   "source": "",
   "id": "6f1879d54a8e3ccb"
  },
  {
   "metadata": {},
   "cell_type": "markdown",
   "source": "Kivy",
   "id": "a3f75b7d95a16bc4"
  },
  {
   "metadata": {
    "ExecuteTime": {
     "end_time": "2025-01-14T08:19:23.051968Z",
     "start_time": "2025-01-14T08:19:06.766227Z"
    }
   },
   "cell_type": "code",
   "source": [
    "!pip install kivy\n",
    "!pip install kivy matplotlib\n",
    "!pip install kivy-garden\n",
    "!garden install matplotlib\n",
    "!pip install kivy_garden.graph\n",
    "\n"
   ],
   "id": "4d2b3837c1ef5171",
   "outputs": [
    {
     "name": "stdout",
     "output_type": "stream",
     "text": [
      "Requirement already satisfied: kivy in c:\\users\\aniaa\\repositories\\pythonproject\\project\\.venv\\lib\\site-packages (2.3.1)\n",
      "Requirement already satisfied: Kivy-Garden>=0.1.4 in c:\\users\\aniaa\\repositories\\pythonproject\\project\\.venv\\lib\\site-packages (from kivy) (0.1.5)\n",
      "Requirement already satisfied: docutils in c:\\users\\aniaa\\repositories\\pythonproject\\project\\.venv\\lib\\site-packages (from kivy) (0.21.2)\n",
      "Requirement already satisfied: pygments in c:\\users\\aniaa\\repositories\\pythonproject\\project\\.venv\\lib\\site-packages (from kivy) (2.19.1)\n",
      "Requirement already satisfied: requests in c:\\users\\aniaa\\repositories\\pythonproject\\project\\.venv\\lib\\site-packages (from kivy) (2.32.3)\n",
      "Requirement already satisfied: filetype in c:\\users\\aniaa\\repositories\\pythonproject\\project\\.venv\\lib\\site-packages (from kivy) (1.2.0)\n",
      "Requirement already satisfied: kivy-deps.angle~=0.4.0 in c:\\users\\aniaa\\repositories\\pythonproject\\project\\.venv\\lib\\site-packages (from kivy) (0.4.0)\n",
      "Requirement already satisfied: kivy-deps.sdl2~=0.8.0 in c:\\users\\aniaa\\repositories\\pythonproject\\project\\.venv\\lib\\site-packages (from kivy) (0.8.0)\n",
      "Requirement already satisfied: kivy-deps.glew~=0.3.1 in c:\\users\\aniaa\\repositories\\pythonproject\\project\\.venv\\lib\\site-packages (from kivy) (0.3.1)\n",
      "Requirement already satisfied: pypiwin32 in c:\\users\\aniaa\\repositories\\pythonproject\\project\\.venv\\lib\\site-packages (from kivy) (223)\n",
      "Requirement already satisfied: pywin32>=223 in c:\\users\\aniaa\\repositories\\pythonproject\\project\\.venv\\lib\\site-packages (from pypiwin32->kivy) (308)\n",
      "Requirement already satisfied: charset-normalizer<4,>=2 in c:\\users\\aniaa\\repositories\\pythonproject\\project\\.venv\\lib\\site-packages (from requests->kivy) (3.4.1)\n",
      "Requirement already satisfied: idna<4,>=2.5 in c:\\users\\aniaa\\repositories\\pythonproject\\project\\.venv\\lib\\site-packages (from requests->kivy) (3.10)\n",
      "Requirement already satisfied: urllib3<3,>=1.21.1 in c:\\users\\aniaa\\repositories\\pythonproject\\project\\.venv\\lib\\site-packages (from requests->kivy) (2.3.0)\n",
      "Requirement already satisfied: certifi>=2017.4.17 in c:\\users\\aniaa\\repositories\\pythonproject\\project\\.venv\\lib\\site-packages (from requests->kivy) (2024.12.14)\n"
     ]
    },
    {
     "name": "stderr",
     "output_type": "stream",
     "text": [
      "\n",
      "[notice] A new release of pip is available: 23.2.1 -> 24.3.1\n",
      "[notice] To update, run: python.exe -m pip install --upgrade pip\n"
     ]
    },
    {
     "name": "stdout",
     "output_type": "stream",
     "text": [
      "Requirement already satisfied: kivy in c:\\users\\aniaa\\repositories\\pythonproject\\project\\.venv\\lib\\site-packages (2.3.1)\n",
      "Requirement already satisfied: matplotlib in c:\\users\\aniaa\\repositories\\pythonproject\\project\\.venv\\lib\\site-packages (3.10.0)\n",
      "Requirement already satisfied: Kivy-Garden>=0.1.4 in c:\\users\\aniaa\\repositories\\pythonproject\\project\\.venv\\lib\\site-packages (from kivy) (0.1.5)\n",
      "Requirement already satisfied: docutils in c:\\users\\aniaa\\repositories\\pythonproject\\project\\.venv\\lib\\site-packages (from kivy) (0.21.2)\n",
      "Requirement already satisfied: pygments in c:\\users\\aniaa\\repositories\\pythonproject\\project\\.venv\\lib\\site-packages (from kivy) (2.19.1)\n",
      "Requirement already satisfied: requests in c:\\users\\aniaa\\repositories\\pythonproject\\project\\.venv\\lib\\site-packages (from kivy) (2.32.3)\n",
      "Requirement already satisfied: filetype in c:\\users\\aniaa\\repositories\\pythonproject\\project\\.venv\\lib\\site-packages (from kivy) (1.2.0)\n",
      "Requirement already satisfied: kivy-deps.angle~=0.4.0 in c:\\users\\aniaa\\repositories\\pythonproject\\project\\.venv\\lib\\site-packages (from kivy) (0.4.0)\n",
      "Requirement already satisfied: kivy-deps.sdl2~=0.8.0 in c:\\users\\aniaa\\repositories\\pythonproject\\project\\.venv\\lib\\site-packages (from kivy) (0.8.0)\n",
      "Requirement already satisfied: kivy-deps.glew~=0.3.1 in c:\\users\\aniaa\\repositories\\pythonproject\\project\\.venv\\lib\\site-packages (from kivy) (0.3.1)\n",
      "Requirement already satisfied: pypiwin32 in c:\\users\\aniaa\\repositories\\pythonproject\\project\\.venv\\lib\\site-packages (from kivy) (223)\n",
      "Requirement already satisfied: contourpy>=1.0.1 in c:\\users\\aniaa\\repositories\\pythonproject\\project\\.venv\\lib\\site-packages (from matplotlib) (1.3.1)\n",
      "Requirement already satisfied: cycler>=0.10 in c:\\users\\aniaa\\repositories\\pythonproject\\project\\.venv\\lib\\site-packages (from matplotlib) (0.12.1)\n",
      "Requirement already satisfied: fonttools>=4.22.0 in c:\\users\\aniaa\\repositories\\pythonproject\\project\\.venv\\lib\\site-packages (from matplotlib) (4.55.3)\n",
      "Requirement already satisfied: kiwisolver>=1.3.1 in c:\\users\\aniaa\\repositories\\pythonproject\\project\\.venv\\lib\\site-packages (from matplotlib) (1.4.8)\n",
      "Requirement already satisfied: numpy>=1.23 in c:\\users\\aniaa\\repositories\\pythonproject\\project\\.venv\\lib\\site-packages (from matplotlib) (2.2.1)\n",
      "Requirement already satisfied: packaging>=20.0 in c:\\users\\aniaa\\repositories\\pythonproject\\project\\.venv\\lib\\site-packages (from matplotlib) (24.2)\n",
      "Requirement already satisfied: pillow>=8 in c:\\users\\aniaa\\repositories\\pythonproject\\project\\.venv\\lib\\site-packages (from matplotlib) (11.1.0)\n",
      "Requirement already satisfied: pyparsing>=2.3.1 in c:\\users\\aniaa\\repositories\\pythonproject\\project\\.venv\\lib\\site-packages (from matplotlib) (3.2.1)\n",
      "Requirement already satisfied: python-dateutil>=2.7 in c:\\users\\aniaa\\repositories\\pythonproject\\project\\.venv\\lib\\site-packages (from matplotlib) (2.9.0.post0)\n",
      "Requirement already satisfied: six>=1.5 in c:\\users\\aniaa\\repositories\\pythonproject\\project\\.venv\\lib\\site-packages (from python-dateutil>=2.7->matplotlib) (1.17.0)\n",
      "Requirement already satisfied: pywin32>=223 in c:\\users\\aniaa\\repositories\\pythonproject\\project\\.venv\\lib\\site-packages (from pypiwin32->kivy) (308)\n",
      "Requirement already satisfied: charset-normalizer<4,>=2 in c:\\users\\aniaa\\repositories\\pythonproject\\project\\.venv\\lib\\site-packages (from requests->kivy) (3.4.1)\n",
      "Requirement already satisfied: idna<4,>=2.5 in c:\\users\\aniaa\\repositories\\pythonproject\\project\\.venv\\lib\\site-packages (from requests->kivy) (3.10)\n",
      "Requirement already satisfied: urllib3<3,>=1.21.1 in c:\\users\\aniaa\\repositories\\pythonproject\\project\\.venv\\lib\\site-packages (from requests->kivy) (2.3.0)\n",
      "Requirement already satisfied: certifi>=2017.4.17 in c:\\users\\aniaa\\repositories\\pythonproject\\project\\.venv\\lib\\site-packages (from requests->kivy) (2024.12.14)\n"
     ]
    },
    {
     "name": "stderr",
     "output_type": "stream",
     "text": [
      "\n",
      "[notice] A new release of pip is available: 23.2.1 -> 24.3.1\n",
      "[notice] To update, run: python.exe -m pip install --upgrade pip\n"
     ]
    },
    {
     "name": "stdout",
     "output_type": "stream",
     "text": [
      "Requirement already satisfied: kivy-garden in c:\\users\\aniaa\\repositories\\pythonproject\\project\\.venv\\lib\\site-packages (0.1.5)"
     ]
    },
    {
     "name": "stderr",
     "output_type": "stream",
     "text": [
      "\n",
      "[notice] A new release of pip is available: 23.2.1 -> 24.3.1\n",
      "[notice] To update, run: python.exe -m pip install --upgrade pip\n"
     ]
    },
    {
     "name": "stdout",
     "output_type": "stream",
     "text": [
      "\n",
      "Requirement already satisfied: requests in c:\\users\\aniaa\\repositories\\pythonproject\\project\\.venv\\lib\\site-packages (from kivy-garden) (2.32.3)\n",
      "Requirement already satisfied: charset-normalizer<4,>=2 in c:\\users\\aniaa\\repositories\\pythonproject\\project\\.venv\\lib\\site-packages (from requests->kivy-garden) (3.4.1)\n",
      "Requirement already satisfied: idna<4,>=2.5 in c:\\users\\aniaa\\repositories\\pythonproject\\project\\.venv\\lib\\site-packages (from requests->kivy-garden) (3.10)\n",
      "Requirement already satisfied: urllib3<3,>=1.21.1 in c:\\users\\aniaa\\repositories\\pythonproject\\project\\.venv\\lib\\site-packages (from requests->kivy-garden) (2.3.0)\n",
      "Requirement already satisfied: certifi>=2017.4.17 in c:\\users\\aniaa\\repositories\\pythonproject\\project\\.venv\\lib\\site-packages (from requests->kivy-garden) (2024.12.14)\n",
      "\n",
      "(.venv) C:\\Users\\aniaa\\Repositories\\PythonProject\\Project>python.exe \"C:\\Users\\aniaa\\Repositories\\PythonProject\\Project\\.venv\\Scripts\\garden\" install matplotlib \n",
      "Garden package already installed in C:\\Users\\aniaa\\.kivy\\garden\\garden.matplotlib\n",
      "Use --upgrade to upgrade.\n"
     ]
    },
    {
     "name": "stderr",
     "output_type": "stream",
     "text": [
      "[INFO   ] [Logger      ] Record log in C:\\Users\\aniaa\\.kivy\\logs\\kivy_25-01-14_45.txt\n",
      "[INFO   ] [deps        ] Successfully imported \"kivy_deps.angle\" 0.4.0\n",
      "[INFO   ] [deps        ] Successfully imported \"kivy_deps.glew\" 0.3.1\n",
      "[INFO   ] [deps        ] Successfully imported \"kivy_deps.sdl2\" 0.8.0\n",
      "[INFO   ] [Kivy        ] v2.3.1\n",
      "[INFO   ] [Kivy        ] Installed at \"C:\\Users\\aniaa\\Repositories\\PythonProject\\Project\\.venv\\Lib\\site-packages\\kivy\\__init__.py\"\n",
      "[INFO   ] [Python      ] v3.12.3 (tags/v3.12.3:f6650f9, Apr  9 2024, 14:05:25) [MSC v.1938 64 bit (AMD64)]\n",
      "[INFO   ] [Python      ] Interpreter at \"C:\\Users\\aniaa\\Repositories\\PythonProject\\Project\\.venv\\Scripts\\python.exe\"\n",
      "[INFO   ] [Logger      ] Purge log fired. Processing...\n",
      "[INFO   ] [Logger      ] Purge finished!\n"
     ]
    },
    {
     "name": "stdout",
     "output_type": "stream",
     "text": [
      "Collecting kivy_garden.graph\n",
      "  Obtaining dependency information for kivy_garden.graph from https://files.pythonhosted.org/packages/55/96/d3a37741d4d0b235f150d1fa9c0d02100a8ccbe2bfbb260282735a06aec8/kivy_garden.graph-0.4.0-py2.py3-none-any.whl.metadata\n",
      "  Downloading kivy_garden.graph-0.4.0-py2.py3-none-any.whl.metadata (4.5 kB)\n",
      "Downloading kivy_garden.graph-0.4.0-py2.py3-none-any.whl (19 kB)\n",
      "Installing collected packages: kivy_garden.graph\n",
      "Successfully installed kivy_garden.graph-0.4.0\n"
     ]
    },
    {
     "name": "stderr",
     "output_type": "stream",
     "text": [
      "\n",
      "[notice] A new release of pip is available: 23.2.1 -> 24.3.1\n",
      "[notice] To update, run: python.exe -m pip install --upgrade pip\n"
     ]
    }
   ],
   "execution_count": 1
  },
  {
   "metadata": {
    "ExecuteTime": {
     "end_time": "2025-01-14T08:21:17.662784Z",
     "start_time": "2025-01-14T08:21:17.631293Z"
    }
   },
   "cell_type": "code",
   "source": [
    "from math import sin\n",
    "from kivy_garden.graph import Graph, MeshLinePlot\n",
    "graph = Graph(xlabel='X', ylabel='Y', x_ticks_minor=5,\n",
    "x_ticks_major=25, y_ticks_major=1,\n",
    "y_grid_label=True, x_grid_label=True, padding=5,\n",
    "x_grid=True, y_grid=True, xmin=-0, xmax=100, ymin=-1, ymax=1)\n",
    "plot = MeshLinePlot(color=[1, 0, 0, 1])\n",
    "plot.points = [(x, sin(x / 10.)) for x in range(0, 101)]\n",
    "graph.add_plot(plot)"
   ],
   "id": "3228fca674fc6400",
   "outputs": [],
   "execution_count": 6
  }
 ],
 "metadata": {
  "kernelspec": {
   "display_name": "Python 3",
   "language": "python",
   "name": "python3"
  },
  "language_info": {
   "codemirror_mode": {
    "name": "ipython",
    "version": 2
   },
   "file_extension": ".py",
   "mimetype": "text/x-python",
   "name": "python",
   "nbconvert_exporter": "python",
   "pygments_lexer": "ipython2",
   "version": "2.7.6"
  }
 },
 "nbformat": 4,
 "nbformat_minor": 5
}
